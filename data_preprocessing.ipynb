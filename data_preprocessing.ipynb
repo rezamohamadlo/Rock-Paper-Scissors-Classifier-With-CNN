{
  "nbformat": 4,
  "nbformat_minor": 0,
  "metadata": {
    "colab": {
      "provenance": [],
      "authorship_tag": "ABX9TyNQqI8b3dgp2uy68IEpbPNz",
      "include_colab_link": true
    },
    "kernelspec": {
      "name": "python3",
      "display_name": "Python 3"
    },
    "language_info": {
      "name": "python"
    }
  },
  "cells": [
    {
      "cell_type": "markdown",
      "metadata": {
        "id": "view-in-github",
        "colab_type": "text"
      },
      "source": [
        "<a href=\"https://colab.research.google.com/github/rezamohamadlo/Rock-Paper-Scissors-Classifier-With-CNN/blob/main/data_preprocessing.ipynb\" target=\"_parent\"><img src=\"https://colab.research.google.com/assets/colab-badge.svg\" alt=\"Open In Colab\"/></a>"
      ]
    },
    {
      "cell_type": "code",
      "execution_count": 1,
      "metadata": {
        "colab": {
          "base_uri": "https://localhost:8080/"
        },
        "id": "hW2Gqsjzd_2o",
        "outputId": "503952f2-d380-400b-9341-603bc3052689"
      },
      "outputs": [
        {
          "output_type": "stream",
          "name": "stdout",
          "text": [
            "Downloading data from https://storage.googleapis.com/learning-datasets/rps.zip\n",
            "\u001b[1m200682221/200682221\u001b[0m \u001b[32m━━━━━━━━━━━━━━━━━━━━\u001b[0m\u001b[37m\u001b[0m \u001b[1m2s\u001b[0m 0us/step\n",
            "Downloading data from https://storage.googleapis.com/learning-datasets/rps-test-set.zip\n",
            "\u001b[1m29516758/29516758\u001b[0m \u001b[32m━━━━━━━━━━━━━━━━━━━━\u001b[0m\u001b[37m\u001b[0m \u001b[1m0s\u001b[0m 0us/step\n",
            "Found 2520 files belonging to 3 classes.\n",
            "Found 372 files belonging to 3 classes.\n",
            "Training dataset: 79 batches\n",
            "Validation dataset: 12 batches\n"
          ]
        }
      ],
      "source": [
        "import os\n",
        "import tensorflow as tf\n",
        "from tensorflow.keras.utils import get_file\n",
        "import zipfile\n",
        "\n",
        "def download_and_extract_data():\n",
        "    \"\"\"Download and extract the Rock-Paper-Scissors dataset.\"\"\"\n",
        "    # URLs for the dataset\n",
        "    TRAINING_URL = 'https://storage.googleapis.com/learning-datasets/rps.zip'\n",
        "    VALIDATION_URL = 'https://storage.googleapis.com/learning-datasets/rps-test-set.zip'\n",
        "\n",
        "    # File paths\n",
        "    TRAINING_ZIP = 'rps.zip'\n",
        "    VALIDATION_ZIP = 'rps-test-set.zip'\n",
        "    TRAINING_DIR = '/content/rps/rps'\n",
        "    VALIDATION_DIR = '/content/rps-test-set/rps-test-set'\n",
        "\n",
        "    # Download the training dataset\n",
        "    get_file(TRAINING_ZIP, TRAINING_URL, cache_dir='.', cache_subdir='')\n",
        "\n",
        "    # Extract the training dataset\n",
        "    with zipfile.ZipFile(TRAINING_ZIP, 'r') as zip_ref:\n",
        "        zip_ref.extractall('/content/rps')\n",
        "\n",
        "    # Download the validation dataset\n",
        "    get_file(VALIDATION_ZIP, VALIDATION_URL, cache_dir='.', cache_subdir='')\n",
        "\n",
        "    # Extract the validation dataset\n",
        "    with zipfile.ZipFile(VALIDATION_ZIP, 'r') as zip_ref:\n",
        "        zip_ref.extractall('/content/rps-test-set')\n",
        "\n",
        "def load_datasets(train_dir, validation_dir):\n",
        "    \"\"\"Load training and validation datasets using TensorFlow.\"\"\"\n",
        "    train_dataset = tf.keras.utils.image_dataset_from_directory(\n",
        "        train_dir,\n",
        "        image_size=(150, 150),\n",
        "        batch_size=32,\n",
        "        label_mode='int'  # Labels will be integers\n",
        "    )\n",
        "\n",
        "    validation_dataset = tf.keras.utils.image_dataset_from_directory(\n",
        "        validation_dir,\n",
        "        image_size=(150, 150),\n",
        "        batch_size=32,\n",
        "        label_mode='int'  # Labels will be integers\n",
        "    )\n",
        "\n",
        "    return train_dataset, validation_dataset\n",
        "\n",
        "if __name__ == \"__main__\":\n",
        "    # Download and extract the dataset\n",
        "    download_and_extract_data()\n",
        "\n",
        "    # Define dataset directories\n",
        "    TRAINING_DIR = '/content/rps/rps'\n",
        "    VALIDATION_DIR = '/content/rps-test-set/rps-test-set'\n",
        "\n",
        "    # Load datasets\n",
        "    train_dataset, validation_dataset = load_datasets(TRAINING_DIR, VALIDATION_DIR)\n",
        "\n",
        "    # Print dataset info\n",
        "    print(f'Training dataset: {len(train_dataset)} batches')\n",
        "    print(f'Validation dataset: {len(validation_dataset)} batches')\n"
      ]
    }
  ]
}