{
  "nbformat": 4,
  "nbformat_minor": 0,
  "metadata": {
    "colab": {
      "provenance": [],
      "authorship_tag": "ABX9TyPem6faq3ch0UM3NIaeVylF",
      "include_colab_link": true
    },
    "kernelspec": {
      "name": "python3",
      "display_name": "Python 3"
    },
    "language_info": {
      "name": "python"
    }
  },
  "cells": [
    {
      "cell_type": "markdown",
      "metadata": {
        "id": "view-in-github",
        "colab_type": "text"
      },
      "source": [
        "<a href=\"https://colab.research.google.com/github/rezamohamadlo/Rock-Paper-Scissors-Classifier-With-CNN/blob/main/interactive_predict.ipynb\" target=\"_parent\"><img src=\"https://colab.research.google.com/assets/colab-badge.svg\" alt=\"Open In Colab\"/></a>"
      ]
    },
    {
      "cell_type": "code",
      "source": [
        "import numpy as np\n",
        "import tensorflow as tf\n",
        "import matplotlib.pyplot as plt\n",
        "import matplotlib.image as mpimg\n",
        "from ipywidgets import widgets\n",
        "from IPython.display import display\n",
        "from io import BytesIO\n",
        "\n",
        "# Load the trained model\n",
        "# Make sure to replace 'path_to_your_model.h5' with the actual path to your saved model\n",
        "model = tf.keras.models.load_model('path_to_your_model.h5')\n",
        "\n",
        "# Create the file upload widget\n",
        "uploader = widgets.FileUpload(accept=\"image/*\", multiple=True)\n",
        "display(uploader)  # Display the file upload widget\n",
        "\n",
        "# Create an output widget to display predictions\n",
        "out = widgets.Output()\n",
        "display(out)  # Display the output widget\n",
        "\n",
        "def file_predict(filename, file, out):\n",
        "    \"\"\"Function to make predictions on uploaded images and print the results.\"\"\"\n",
        "    # Load and preprocess the image\n",
        "    image = tf.keras.utils.load_img(file, target_size=(150, 150))  # Load the image with target size 150x150\n",
        "    image = tf.keras.utils.img_to_array(image)  # Convert image to array\n",
        "    image = np.expand_dims(image, axis=0)  # Add batch dimension\n",
        "\n",
        "    # Make a prediction\n",
        "    prediction = model.predict(image, verbose=0)[0]  # Predict and get the result for the single image\n",
        "\n",
        "    # Display the results\n",
        "    with out:\n",
        "        print(f'\\nModel output: {prediction}')  # Print the model's raw output\n",
        "\n",
        "        # Get the index of the highest probability\n",
        "        prediction_index = np.argmax(prediction)\n",
        "\n",
        "        # Define class names\n",
        "        classes = [\"paper\", \"rock\", \"scissors\"]\n",
        "\n",
        "        # Determine the predicted class\n",
        "        predicted_class = classes[prediction_index]\n",
        "\n",
        "        print(f'{filename} is {predicted_class}')  # Print the predicted class\n",
        "\n",
        "def on_upload_change(change):\n",
        "    \"\"\"Function to handle file uploads and run predictions.\"\"\"\n",
        "    # Get the newly uploaded file(s)\n",
        "    items = change.new\n",
        "    for item in items:  # Loop if there are multiple files uploaded\n",
        "        file_jpgdata = BytesIO(item.content)  # Convert the file content to BytesIO object\n",
        "        file_predict(item.name, file_jpgdata, out)  # Predict the class of the uploaded file\n",
        "\n",
        "# Observe changes in the file upload widget and run the `on_upload_change` function when files are uploaded\n",
        "uploader.observe(on_upload_change, names='value')\n"
      ],
      "metadata": {
        "id": "N-43GDnWe5mL"
      },
      "execution_count": null,
      "outputs": []
    }
  ]
}